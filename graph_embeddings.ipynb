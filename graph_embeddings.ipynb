{
 "cells": [
  {
   "cell_type": "markdown",
   "metadata": {},
   "source": [
    "Define the nodes for the poses"
   ]
  },
  {
   "cell_type": "code",
   "execution_count": 35,
   "metadata": {},
   "outputs": [
    {
     "data": {
      "text/plain": [
       "True"
      ]
     },
     "execution_count": 35,
     "metadata": {},
     "output_type": "execute_result"
    }
   ],
   "source": [
    "graph = dict() # initialize graph\n",
    "\n",
    "points = []\n",
    "# read the landmarks.m file\n",
    "with open('landmarks\\horse\\landmarks.m', 'r') as f:\n",
    "    for i in f:\n",
    "        split_result = i.split(' = ')\n",
    "        if len(split_result) >= 2:\n",
    "            # print(split_result[1].split(';')[0])\n",
    "            points.append(split_result[1].split(';')[0].split(\"'\")[1])\n",
    "\n",
    "# add points to graph\n",
    "graph['chin'] = ['leftEye', 'rightEye', 'neck']\n",
    "graph['rightEye'] = ['chin', 'leftEye', 'neck']\n",
    "graph['leftEye'] = ['chin', 'rightEye', 'neck']\n",
    "graph['neck'] = ['chin', 'leftEye', 'rightEye', 'leftShoulder', 'rightShoulder']\n",
    "graph['leftShoulder'] = ['neck', 'frontLeftHip', 'tailSart']\n",
    "graph['rightShoulder'] = ['neck', 'frontRightHip', 'tailStart']\n",
    "graph['frontLeftHip'] = ['leftShoulder', 'frontLeftKnee']\n",
    "graph['frontRightHip'] = ['rightShoulder', 'frontRightKnee']\n",
    "graph['frontLeftKnee'] = ['frontLeftHip', 'frontLeftHoof']\n",
    "graph['frontRightKnee'] = ['frontRightHip', 'frontRightHoof']\n",
    "graph['frontLeftHoof'] = ['frontLeftKnee']\n",
    "graph['frontRightHoof'] = ['frontRightKnee']\n",
    "graph['tailStart'] = ['leftShoulder', 'rightShoulder', 'backLeftHip', 'backRightHip']\n",
    "graph['backLeftHip'] = ['tailStart', 'backLeftKnee']\n",
    "graph['backRightHip'] = ['tailStart', 'backRightKnee']\n",
    "graph['backLeftKnee'] = ['backLeftHip', 'backLeftHoof']\n",
    "graph['backRightKnee'] = ['backRightHip', 'backRightHoof']\n",
    "graph['backLeftHoof'] = ['backLeftKnee']\n",
    "graph['backRightHoof'] = ['backRightKnee']\n",
    "\n",
    "len(graph) == len(points) # check that all points are in graph"
   ]
  },
  {
   "cell_type": "code",
   "execution_count": 24,
   "metadata": {},
   "outputs": [],
   "source": [
    "# save dictionary to JSON file\n",
    "import json\n",
    "with open('graph.json', 'w') as fp:\n",
    "    json.dump(graph, fp, indent=4)"
   ]
  },
  {
   "cell_type": "markdown",
   "metadata": {},
   "source": [
    "Define rules to connect the nodes"
   ]
  },
  {
   "cell_type": "code",
   "execution_count": null,
   "metadata": {},
   "outputs": [],
   "source": []
  }
 ],
 "metadata": {
  "kernelspec": {
   "display_name": ".venv",
   "language": "python",
   "name": "python3"
  },
  "language_info": {
   "codemirror_mode": {
    "name": "ipython",
    "version": 3
   },
   "file_extension": ".py",
   "mimetype": "text/x-python",
   "name": "python",
   "nbconvert_exporter": "python",
   "pygments_lexer": "ipython3",
   "version": "3.10.11"
  }
 },
 "nbformat": 4,
 "nbformat_minor": 2
}
